{
  "nbformat": 4,
  "nbformat_minor": 0,
  "metadata": {
    "colab": {
      "provenance": [],
      "authorship_tag": "ABX9TyMrhmPPUzs83MABO4fFqk3n",
      "include_colab_link": true
    },
    "kernelspec": {
      "name": "python3",
      "display_name": "Python 3"
    },
    "language_info": {
      "name": "python"
    }
  },
  "cells": [
    {
      "cell_type": "markdown",
      "metadata": {
        "id": "view-in-github",
        "colab_type": "text"
      },
      "source": [
        "<a href=\"https://colab.research.google.com/github/yoursmaddyy/Machine-Learning-Track/blob/main/building_linear_regression_from_scratch.ipynb\" target=\"_parent\"><img src=\"https://colab.research.google.com/assets/colab-badge.svg\" alt=\"Open In Colab\"/></a>"
      ]
    },
    {
      "cell_type": "code",
      "execution_count": 1,
      "metadata": {
        "id": "6Ya4VBZ8mF-v"
      },
      "outputs": [],
      "source": [
        "## Step 1: Import necessary libraries (NumPy for calculations, matplotlib for plotting)\n",
        "import numpy as np\n",
        "import pandas as pd\n",
        "import matplotlib as plt\n"
      ]
    },
    {
      "cell_type": "markdown",
      "source": [
        "## Step 1: Import necessary libraries (NumPy for calculations, matplotlib for plotting)\n",
        "\n",
        "## Step 2: Generate or load sample dataset (X, y)\n",
        "\n",
        "## Step 3: Initialize parameters (theta/weights and bias) to zero or small random numbers\n",
        "\n",
        "## Step 4: Define the hypothesis function h(x) = X * theta + bias\n",
        "\n",
        "## Step 5: Define the cost function (Mean Squared Error - MSE)\n",
        "\n",
        "## Step 6: Define the gradient descent algorithm to update weights and bias\n",
        "\n",
        "## Step 7: Train the model by running gradient descent for N iterations\n",
        "\n",
        "## Step 8: Plot cost vs iterations (optional, for visualization)\n",
        "\n",
        "## Step 9: Predict using the trained model\n",
        "\n",
        "## Step 10: Evaluate model (e.g., using R² score or visually comparing predictions)\n",
        "\n",
        "## (Optional) Step 11: Compare with scikit-learn’s LinearRegression for validation\n",
        "\n"
      ],
      "metadata": {
        "id": "wm_Z1oqvtFpv"
      }
    },
    {
      "cell_type": "code",
      "source": [
        "class LinearRegression:\n",
        "  def __init__(self, lr, iter):\n",
        "    self.lr = lr\n",
        "    self.iter = iter\n",
        "\n",
        "  def fit(self, X, Y):\n",
        "    self.numSamples, self.numFeatures = X.shape\n",
        "    self.w = np.zeros(self.numFeatures)\n",
        "    self.b = 0\n",
        "\n",
        "    for i in range(self.iter):\n",
        "      self.update_weight(X, Y)\n",
        "\n",
        "  def predict(self, X):\n",
        "    return np.dot(X, self.w) + self.b\n",
        "\n",
        "  def update_weight(self, X, Y):\n",
        "    n = X.shape[0]\n",
        "    Y_pred = self.predict(X)\n",
        "\n",
        "    dw = (-2 / n) * np.dot(X.T, (Y - Y_pred))\n",
        "    db = (-2 / n) * np.sum(Y - Y_pred)\n",
        "\n",
        "    self.w = self.w - self.lr * dw\n",
        "    self.b = self.b - self.lr * db"
      ],
      "metadata": {
        "id": "4W2nvYYum8WL"
      },
      "execution_count": null,
      "outputs": []
    }
  ]
}